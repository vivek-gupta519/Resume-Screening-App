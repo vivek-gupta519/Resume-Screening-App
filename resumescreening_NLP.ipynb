{
  "nbformat": 4,
  "nbformat_minor": 0,
  "metadata": {
    "colab": {
      "provenance": []
    },
    "kernelspec": {
      "name": "python3",
      "display_name": "Python 3"
    },
    "language_info": {
      "name": "python"
    }
  },
  "cells": [
    {
      "cell_type": "code",
      "execution_count": 1,
      "metadata": {
        "id": "izWhGjhqu9ME"
      },
      "outputs": [],
      "source": [
        "import numpy as np\n",
        "import pandas as pd\n",
        "import matplotlib.pyplot as plt\n",
        "import seaborn as sns"
      ]
    },
    {
      "cell_type": "code",
      "source": [
        "raw_df = pd.read_csv('/content/drive/MyDrive/resume_screening_NLP/UpdatedResumeDataSet.csv')"
      ],
      "metadata": {
        "id": "vaethQtfvhm4"
      },
      "execution_count": 2,
      "outputs": []
    },
    {
      "cell_type": "code",
      "source": [
        "raw_df.shape"
      ],
      "metadata": {
        "colab": {
          "base_uri": "https://localhost:8080/"
        },
        "id": "DIbWHW2bvmYo",
        "outputId": "70639954-7a84-4bd7-d895-cafcc6b086fc"
      },
      "execution_count": 3,
      "outputs": [
        {
          "output_type": "execute_result",
          "data": {
            "text/plain": [
              "(962, 2)"
            ]
          },
          "metadata": {},
          "execution_count": 3
        }
      ]
    },
    {
      "cell_type": "code",
      "source": [
        "raw_df.head()"
      ],
      "metadata": {
        "colab": {
          "base_uri": "https://localhost:8080/",
          "height": 206
        },
        "id": "u2fDC0hcvmVG",
        "outputId": "d200ce57-f255-4bf5-e942-dda99dc3d624"
      },
      "execution_count": 4,
      "outputs": [
        {
          "output_type": "execute_result",
          "data": {
            "text/plain": [
              "       Category                                             Resume\n",
              "0  Data Science  Skills * Programming Languages: Python (pandas...\n",
              "1  Data Science  Education Details \\r\\nMay 2013 to May 2017 B.E...\n",
              "2  Data Science  Areas of Interest Deep Learning, Control Syste...\n",
              "3  Data Science  Skills â¢ R â¢ Python â¢ SAP HANA â¢ Table...\n",
              "4  Data Science  Education Details \\r\\n MCA   YMCAUST,  Faridab..."
            ],
            "text/html": [
              "\n",
              "  <div id=\"df-0affb563-2ea7-464f-a353-38bce6b3d8e9\" class=\"colab-df-container\">\n",
              "    <div>\n",
              "<style scoped>\n",
              "    .dataframe tbody tr th:only-of-type {\n",
              "        vertical-align: middle;\n",
              "    }\n",
              "\n",
              "    .dataframe tbody tr th {\n",
              "        vertical-align: top;\n",
              "    }\n",
              "\n",
              "    .dataframe thead th {\n",
              "        text-align: right;\n",
              "    }\n",
              "</style>\n",
              "<table border=\"1\" class=\"dataframe\">\n",
              "  <thead>\n",
              "    <tr style=\"text-align: right;\">\n",
              "      <th></th>\n",
              "      <th>Category</th>\n",
              "      <th>Resume</th>\n",
              "    </tr>\n",
              "  </thead>\n",
              "  <tbody>\n",
              "    <tr>\n",
              "      <th>0</th>\n",
              "      <td>Data Science</td>\n",
              "      <td>Skills * Programming Languages: Python (pandas...</td>\n",
              "    </tr>\n",
              "    <tr>\n",
              "      <th>1</th>\n",
              "      <td>Data Science</td>\n",
              "      <td>Education Details \\r\\nMay 2013 to May 2017 B.E...</td>\n",
              "    </tr>\n",
              "    <tr>\n",
              "      <th>2</th>\n",
              "      <td>Data Science</td>\n",
              "      <td>Areas of Interest Deep Learning, Control Syste...</td>\n",
              "    </tr>\n",
              "    <tr>\n",
              "      <th>3</th>\n",
              "      <td>Data Science</td>\n",
              "      <td>Skills â¢ R â¢ Python â¢ SAP HANA â¢ Table...</td>\n",
              "    </tr>\n",
              "    <tr>\n",
              "      <th>4</th>\n",
              "      <td>Data Science</td>\n",
              "      <td>Education Details \\r\\n MCA   YMCAUST,  Faridab...</td>\n",
              "    </tr>\n",
              "  </tbody>\n",
              "</table>\n",
              "</div>\n",
              "    <div class=\"colab-df-buttons\">\n",
              "\n",
              "  <div class=\"colab-df-container\">\n",
              "    <button class=\"colab-df-convert\" onclick=\"convertToInteractive('df-0affb563-2ea7-464f-a353-38bce6b3d8e9')\"\n",
              "            title=\"Convert this dataframe to an interactive table.\"\n",
              "            style=\"display:none;\">\n",
              "\n",
              "  <svg xmlns=\"http://www.w3.org/2000/svg\" height=\"24px\" viewBox=\"0 -960 960 960\">\n",
              "    <path d=\"M120-120v-720h720v720H120Zm60-500h600v-160H180v160Zm220 220h160v-160H400v160Zm0 220h160v-160H400v160ZM180-400h160v-160H180v160Zm440 0h160v-160H620v160ZM180-180h160v-160H180v160Zm440 0h160v-160H620v160Z\"/>\n",
              "  </svg>\n",
              "    </button>\n",
              "\n",
              "  <style>\n",
              "    .colab-df-container {\n",
              "      display:flex;\n",
              "      gap: 12px;\n",
              "    }\n",
              "\n",
              "    .colab-df-convert {\n",
              "      background-color: #E8F0FE;\n",
              "      border: none;\n",
              "      border-radius: 50%;\n",
              "      cursor: pointer;\n",
              "      display: none;\n",
              "      fill: #1967D2;\n",
              "      height: 32px;\n",
              "      padding: 0 0 0 0;\n",
              "      width: 32px;\n",
              "    }\n",
              "\n",
              "    .colab-df-convert:hover {\n",
              "      background-color: #E2EBFA;\n",
              "      box-shadow: 0px 1px 2px rgba(60, 64, 67, 0.3), 0px 1px 3px 1px rgba(60, 64, 67, 0.15);\n",
              "      fill: #174EA6;\n",
              "    }\n",
              "\n",
              "    .colab-df-buttons div {\n",
              "      margin-bottom: 4px;\n",
              "    }\n",
              "\n",
              "    [theme=dark] .colab-df-convert {\n",
              "      background-color: #3B4455;\n",
              "      fill: #D2E3FC;\n",
              "    }\n",
              "\n",
              "    [theme=dark] .colab-df-convert:hover {\n",
              "      background-color: #434B5C;\n",
              "      box-shadow: 0px 1px 3px 1px rgba(0, 0, 0, 0.15);\n",
              "      filter: drop-shadow(0px 1px 2px rgba(0, 0, 0, 0.3));\n",
              "      fill: #FFFFFF;\n",
              "    }\n",
              "  </style>\n",
              "\n",
              "    <script>\n",
              "      const buttonEl =\n",
              "        document.querySelector('#df-0affb563-2ea7-464f-a353-38bce6b3d8e9 button.colab-df-convert');\n",
              "      buttonEl.style.display =\n",
              "        google.colab.kernel.accessAllowed ? 'block' : 'none';\n",
              "\n",
              "      async function convertToInteractive(key) {\n",
              "        const element = document.querySelector('#df-0affb563-2ea7-464f-a353-38bce6b3d8e9');\n",
              "        const dataTable =\n",
              "          await google.colab.kernel.invokeFunction('convertToInteractive',\n",
              "                                                    [key], {});\n",
              "        if (!dataTable) return;\n",
              "\n",
              "        const docLinkHtml = 'Like what you see? Visit the ' +\n",
              "          '<a target=\"_blank\" href=https://colab.research.google.com/notebooks/data_table.ipynb>data table notebook</a>'\n",
              "          + ' to learn more about interactive tables.';\n",
              "        element.innerHTML = '';\n",
              "        dataTable['output_type'] = 'display_data';\n",
              "        await google.colab.output.renderOutput(dataTable, element);\n",
              "        const docLink = document.createElement('div');\n",
              "        docLink.innerHTML = docLinkHtml;\n",
              "        element.appendChild(docLink);\n",
              "      }\n",
              "    </script>\n",
              "  </div>\n",
              "\n",
              "\n",
              "<div id=\"df-447faa44-5b5c-4878-b883-315d84c09995\">\n",
              "  <button class=\"colab-df-quickchart\" onclick=\"quickchart('df-447faa44-5b5c-4878-b883-315d84c09995')\"\n",
              "            title=\"Suggest charts.\"\n",
              "            style=\"display:none;\">\n",
              "\n",
              "<svg xmlns=\"http://www.w3.org/2000/svg\" height=\"24px\"viewBox=\"0 0 24 24\"\n",
              "     width=\"24px\">\n",
              "    <g>\n",
              "        <path d=\"M19 3H5c-1.1 0-2 .9-2 2v14c0 1.1.9 2 2 2h14c1.1 0 2-.9 2-2V5c0-1.1-.9-2-2-2zM9 17H7v-7h2v7zm4 0h-2V7h2v10zm4 0h-2v-4h2v4z\"/>\n",
              "    </g>\n",
              "</svg>\n",
              "  </button>\n",
              "\n",
              "<style>\n",
              "  .colab-df-quickchart {\n",
              "      --bg-color: #E8F0FE;\n",
              "      --fill-color: #1967D2;\n",
              "      --hover-bg-color: #E2EBFA;\n",
              "      --hover-fill-color: #174EA6;\n",
              "      --disabled-fill-color: #AAA;\n",
              "      --disabled-bg-color: #DDD;\n",
              "  }\n",
              "\n",
              "  [theme=dark] .colab-df-quickchart {\n",
              "      --bg-color: #3B4455;\n",
              "      --fill-color: #D2E3FC;\n",
              "      --hover-bg-color: #434B5C;\n",
              "      --hover-fill-color: #FFFFFF;\n",
              "      --disabled-bg-color: #3B4455;\n",
              "      --disabled-fill-color: #666;\n",
              "  }\n",
              "\n",
              "  .colab-df-quickchart {\n",
              "    background-color: var(--bg-color);\n",
              "    border: none;\n",
              "    border-radius: 50%;\n",
              "    cursor: pointer;\n",
              "    display: none;\n",
              "    fill: var(--fill-color);\n",
              "    height: 32px;\n",
              "    padding: 0;\n",
              "    width: 32px;\n",
              "  }\n",
              "\n",
              "  .colab-df-quickchart:hover {\n",
              "    background-color: var(--hover-bg-color);\n",
              "    box-shadow: 0 1px 2px rgba(60, 64, 67, 0.3), 0 1px 3px 1px rgba(60, 64, 67, 0.15);\n",
              "    fill: var(--button-hover-fill-color);\n",
              "  }\n",
              "\n",
              "  .colab-df-quickchart-complete:disabled,\n",
              "  .colab-df-quickchart-complete:disabled:hover {\n",
              "    background-color: var(--disabled-bg-color);\n",
              "    fill: var(--disabled-fill-color);\n",
              "    box-shadow: none;\n",
              "  }\n",
              "\n",
              "  .colab-df-spinner {\n",
              "    border: 2px solid var(--fill-color);\n",
              "    border-color: transparent;\n",
              "    border-bottom-color: var(--fill-color);\n",
              "    animation:\n",
              "      spin 1s steps(1) infinite;\n",
              "  }\n",
              "\n",
              "  @keyframes spin {\n",
              "    0% {\n",
              "      border-color: transparent;\n",
              "      border-bottom-color: var(--fill-color);\n",
              "      border-left-color: var(--fill-color);\n",
              "    }\n",
              "    20% {\n",
              "      border-color: transparent;\n",
              "      border-left-color: var(--fill-color);\n",
              "      border-top-color: var(--fill-color);\n",
              "    }\n",
              "    30% {\n",
              "      border-color: transparent;\n",
              "      border-left-color: var(--fill-color);\n",
              "      border-top-color: var(--fill-color);\n",
              "      border-right-color: var(--fill-color);\n",
              "    }\n",
              "    40% {\n",
              "      border-color: transparent;\n",
              "      border-right-color: var(--fill-color);\n",
              "      border-top-color: var(--fill-color);\n",
              "    }\n",
              "    60% {\n",
              "      border-color: transparent;\n",
              "      border-right-color: var(--fill-color);\n",
              "    }\n",
              "    80% {\n",
              "      border-color: transparent;\n",
              "      border-right-color: var(--fill-color);\n",
              "      border-bottom-color: var(--fill-color);\n",
              "    }\n",
              "    90% {\n",
              "      border-color: transparent;\n",
              "      border-bottom-color: var(--fill-color);\n",
              "    }\n",
              "  }\n",
              "</style>\n",
              "\n",
              "  <script>\n",
              "    async function quickchart(key) {\n",
              "      const quickchartButtonEl =\n",
              "        document.querySelector('#' + key + ' button');\n",
              "      quickchartButtonEl.disabled = true;  // To prevent multiple clicks.\n",
              "      quickchartButtonEl.classList.add('colab-df-spinner');\n",
              "      try {\n",
              "        const charts = await google.colab.kernel.invokeFunction(\n",
              "            'suggestCharts', [key], {});\n",
              "      } catch (error) {\n",
              "        console.error('Error during call to suggestCharts:', error);\n",
              "      }\n",
              "      quickchartButtonEl.classList.remove('colab-df-spinner');\n",
              "      quickchartButtonEl.classList.add('colab-df-quickchart-complete');\n",
              "    }\n",
              "    (() => {\n",
              "      let quickchartButtonEl =\n",
              "        document.querySelector('#df-447faa44-5b5c-4878-b883-315d84c09995 button');\n",
              "      quickchartButtonEl.style.display =\n",
              "        google.colab.kernel.accessAllowed ? 'block' : 'none';\n",
              "    })();\n",
              "  </script>\n",
              "</div>\n",
              "    </div>\n",
              "  </div>\n"
            ]
          },
          "metadata": {},
          "execution_count": 4
        }
      ]
    },
    {
      "cell_type": "code",
      "source": [
        "raw_df['Category'].value_counts()"
      ],
      "metadata": {
        "colab": {
          "base_uri": "https://localhost:8080/"
        },
        "id": "9oKxLyzdvmSy",
        "outputId": "16e81740-0b60-41dc-ba98-27418ca05704"
      },
      "execution_count": 5,
      "outputs": [
        {
          "output_type": "execute_result",
          "data": {
            "text/plain": [
              "Java Developer               84\n",
              "Testing                      70\n",
              "DevOps Engineer              55\n",
              "Python Developer             48\n",
              "Web Designing                45\n",
              "HR                           44\n",
              "Hadoop                       42\n",
              "Blockchain                   40\n",
              "ETL Developer                40\n",
              "Operations Manager           40\n",
              "Data Science                 40\n",
              "Sales                        40\n",
              "Mechanical Engineer          40\n",
              "Arts                         36\n",
              "Database                     33\n",
              "Electrical Engineering       30\n",
              "Health and fitness           30\n",
              "PMO                          30\n",
              "Business Analyst             28\n",
              "DotNet Developer             28\n",
              "Automation Testing           26\n",
              "Network Security Engineer    25\n",
              "SAP Developer                24\n",
              "Civil Engineer               24\n",
              "Advocate                     20\n",
              "Name: Category, dtype: int64"
            ]
          },
          "metadata": {},
          "execution_count": 5
        }
      ]
    },
    {
      "cell_type": "code",
      "source": [
        "plt.figure(figsize=(10,6))\n",
        "sns.countplot(y ='Category', data = raw_df)\n",
        "plt.show()"
      ],
      "metadata": {
        "colab": {
          "base_uri": "https://localhost:8080/",
          "height": 542
        },
        "id": "_BMnwGmJvmPH",
        "outputId": "ae857e49-ec8d-42c1-b8b1-012bc98ff1c0"
      },
      "execution_count": 6,
      "outputs": [
        {
          "output_type": "display_data",
          "data": {
            "text/plain": [
              "<Figure size 1000x600 with 1 Axes>"
            ],
            "image/png": "[encoded data removed]"
          },
          "metadata": {}
        }
      ]
    },
    {
      "cell_type": "code",
      "source": [
        "raw_df['Category'].unique()"
      ],
      "metadata": {
        "colab": {
          "base_uri": "https://localhost:8080/"
        },
        "id": "3B33RE-mvmNC",
        "outputId": "017be09f-f7c1-477d-cec3-094a6ab19ad5"
      },
      "execution_count": 7,
      "outputs": [
        {
          "output_type": "execute_result",
          "data": {
            "text/plain": [
              "array(['Data Science', 'HR', 'Advocate', 'Arts', 'Web Designing',\n",
              "       'Mechanical Engineer', 'Sales', 'Health and fitness',\n",
              "       'Civil Engineer', 'Java Developer', 'Business Analyst',\n",
              "       'SAP Developer', 'Automation Testing', 'Electrical Engineering',\n",
              "       'Operations Manager', 'Python Developer', 'DevOps Engineer',\n",
              "       'Network Security Engineer', 'PMO', 'Database', 'Hadoop',\n",
              "       'ETL Developer', 'DotNet Developer', 'Blockchain', 'Testing'],\n",
              "      dtype=object)"
            ]
          },
          "metadata": {},
          "execution_count": 7
        }
      ]
    },
    {
      "cell_type": "code",
      "source": [
        "raw_df['Resume'][0]"
      ],
      "metadata": {
        "colab": {
          "base_uri": "https://localhost:8080/",
          "height": 140
        },
        "id": "58zc-OIVvmJk",
        "outputId": "cab9cdc5-b6cf-492d-ac9c-af90f4bebe70"
      },
      "execution_count": 8,
      "outputs": [
        {
          "output_type": "execute_result",
          "data": {
            "text/plain": [
              "'Skills * Programming Languages: Python (pandas, numpy, scipy, scikit-learn, matplotlib), Sql, Java, JavaScript/JQuery. * Machine learning: Regression, SVM, NaÃ¯ve Bayes, KNN, Random Forest, Decision Trees, Boosting techniques, Cluster Analysis, Word Embedding, Sentiment Analysis, Natural Language processing, Dimensionality reduction, Topic Modelling (LDA, NMF), PCA & Neural Nets. * Database Visualizations: Mysql, SqlServer, Cassandra, Hbase, ElasticSearch D3.js, DC.js, Plotly, kibana, matplotlib, ggplot, Tableau. * Others: Regular Expression, HTML, CSS, Angular 6, Logstash, Kafka, Python Flask, Git, Docker, computer vision - Open CV and understanding of Deep learning.Education Details \\r\\n\\r\\nData Science Assurance Associate \\r\\n\\r\\nData Science Assurance Associate - Ernst & Young LLP\\r\\nSkill Details \\r\\nJAVASCRIPT- Exprience - 24 months\\r\\njQuery- Exprience - 24 months\\r\\nPython- Exprience - 24 monthsCompany Details \\r\\ncompany - Ernst & Young LLP\\r\\ndescription - Fraud Investigations and Dispute Services   Assurance\\r\\nTECHNOLOGY ASSISTED REVIEW\\r\\nTAR (Technology Assisted Review) assists in accelerating the review process and run analytics and generate reports.\\r\\n* Core member of a team helped in developing automated review platform tool from scratch for assisting E discovery domain, this tool implements predictive coding and topic modelling by automating reviews, resulting in reduced labor costs and time spent during the lawyers review.\\r\\n* Understand the end to end flow of the solution, doing research and development for classification models, predictive analysis and mining of the information present in text data. Worked on analyzing the outputs and precision monitoring for the entire tool.\\r\\n* TAR assists in predictive coding, topic modelling from the evidence by following EY standards. Developed the classifier models in order to identify \"red flags\" and fraud-related issues.\\r\\n\\r\\nTools & Technologies: Python, scikit-learn, tfidf, word2vec, doc2vec, cosine similarity, NaÃ¯ve Bayes, LDA, NMF for topic modelling, Vader and text blob for sentiment analysis. Matplot lib, Tableau dashboard for reporting.\\r\\n\\r\\nMULTIPLE DATA SCIENCE AND ANALYTIC PROJECTS (USA CLIENTS)\\r\\nTEXT ANALYTICS - MOTOR VEHICLE CUSTOMER REVIEW DATA * Received customer feedback survey data for past one year. Performed sentiment (Positive, Negative & Neutral) and time series analysis on customer comments across all 4 categories.\\r\\n* Created heat map of terms by survey category based on frequency of words * Extracted Positive and Negative words across all the Survey categories and plotted Word cloud.\\r\\n* Created customized tableau dashboards for effective reporting and visualizations.\\r\\nCHATBOT * Developed a user friendly chatbot for one of our Products which handle simple questions about hours of operation, reservation options and so on.\\r\\n* This chat bot serves entire product related questions. Giving overview of tool via QA platform and also give recommendation responses so that user question to build chain of relevant answer.\\r\\n* This too has intelligence to build the pipeline of questions as per user requirement and asks the relevant /recommended questions.\\r\\n\\r\\nTools & Technologies: Python, Natural language processing, NLTK, spacy, topic modelling, Sentiment analysis, Word Embedding, scikit-learn, JavaScript/JQuery, SqlServer\\r\\n\\r\\nINFORMATION GOVERNANCE\\r\\nOrganizations to make informed decisions about all of the information they store. The integrated Information Governance portfolio synthesizes intelligence across unstructured data sources and facilitates action to ensure organizations are best positioned to counter information risk.\\r\\n* Scan data from multiple sources of formats and parse different file formats, extract Meta data information, push results for indexing elastic search and created customized, interactive dashboards using kibana.\\r\\n* Preforming ROT Analysis on the data which give information of data which helps identify content that is either Redundant, Outdated, or Trivial.\\r\\n* Preforming full-text search analysis on elastic search with predefined methods which can tag as (PII) personally identifiable information (social security numbers, addresses, names, etc.) which frequently targeted during cyber-attacks.\\r\\nTools & Technologies: Python, Flask, Elastic Search, Kibana\\r\\n\\r\\nFRAUD ANALYTIC PLATFORM\\r\\nFraud Analytics and investigative platform to review all red flag cases.\\r\\nâ\\x80¢ FAP is a Fraud Analytics and investigative platform with inbuilt case manager and suite of Analytics for various ERP systems.\\r\\n* It can be used by clients to interrogate their Accounting systems for identifying the anomalies which can be indicators of fraud by running advanced analytics\\r\\nTools & Technologies: HTML, JavaScript, SqlServer, JQuery, CSS, Bootstrap, Node.js, D3.js, DC.js'"
            ],
            "application/vnd.google.colaboratory.intrinsic+json": {
              "type": "string"
            }
          },
          "metadata": {},
          "execution_count": 8
        }
      ]
    },
    {
      "cell_type": "code",
      "source": [
        "df = raw_df.copy()"
      ],
      "metadata": {
        "id": "TCw_NIZdvmF8"
      },
      "execution_count": 9,
      "outputs": []
    },
    {
      "cell_type": "code",
      "source": [
        "import re\n",
        "\n",
        "def cleanResume(text):\n",
        "    pattern = r'[^a-zA-Z0-9\\s]'\n",
        "    cleantext = re.sub(pattern, '', text)\n",
        "    cleantext = re.sub(r'\\n|\\r', '', cleantext)\n",
        "\n",
        "    return cleantext\n"
      ],
      "metadata": {
        "id": "hwvAO88KvmDm"
      },
      "execution_count": 10,
      "outputs": []
    },
    {
      "cell_type": "code",
      "source": [
        "df['Resume'] = df['Resume'].apply(cleanResume)"
      ],
      "metadata": {
        "id": "SIRVtdbpvmAv"
      },
      "execution_count": 11,
      "outputs": []
    },
    {
      "cell_type": "code",
      "source": [
        "df['Resume']"
      ],
      "metadata": {
        "colab": {
          "base_uri": "https://localhost:8080/"
        },
        "id": "ahYR7p0kvl9U",
        "outputId": "e0136939-e95c-4f7d-aef6-ed87e7a8e6f2"
      },
      "execution_count": 12,
      "outputs": [
        {
          "output_type": "execute_result",
          "data": {
            "text/plain": [
              "0      Skills  Programming Languages Python pandas nu...\n",
              "1      Education Details May 2013 to May 2017 BE   UI...\n",
              "2      Areas of Interest Deep Learning Control System...\n",
              "3      Skills  R  Python  SAP HANA  Tableau  SAP HANA...\n",
              "4      Education Details  MCA   YMCAUST  Faridabad  H...\n",
              "                             ...                        \n",
              "957    Computer Skills  Proficient in MS office Word ...\n",
              "958     Willingness to accept the challenges  Positiv...\n",
              "959    PERSONAL SKILLS  Quick learner  Eagerness to l...\n",
              "960    COMPUTER SKILLS  SOFTWARE KNOWLEDGE MSPower Po...\n",
              "961    Skill Set OS Windows XP788110 Database MYSQL s...\n",
              "Name: Resume, Length: 962, dtype: object"
            ]
          },
          "metadata": {},
          "execution_count": 12
        }
      ]
    },
    {
      "cell_type": "code",
      "source": [
        "df['Resume'][0]"
      ],
      "metadata": {
        "colab": {
          "base_uri": "https://localhost:8080/",
          "height": 140
        },
        "id": "WzE-x2-F2o9O",
        "outputId": "ca70534c-7a49-478c-e3a3-63f0a7713cab"
      },
      "execution_count": 13,
      "outputs": [
        {
          "output_type": "execute_result",
          "data": {
            "text/plain": [
              "'Skills  Programming Languages Python pandas numpy scipy scikitlearn matplotlib Sql Java JavaScriptJQuery  Machine learning Regression SVM Nave Bayes KNN Random Forest Decision Trees Boosting techniques Cluster Analysis Word Embedding Sentiment Analysis Natural Language processing Dimensionality reduction Topic Modelling LDA NMF PCA  Neural Nets  Database Visualizations Mysql SqlServer Cassandra Hbase ElasticSearch D3js DCjs Plotly kibana matplotlib ggplot Tableau  Others Regular Expression HTML CSS Angular 6 Logstash Kafka Python Flask Git Docker computer vision  Open CV and understanding of Deep learningEducation Details Data Science Assurance Associate Data Science Assurance Associate  Ernst  Young LLPSkill Details JAVASCRIPT Exprience  24 monthsjQuery Exprience  24 monthsPython Exprience  24 monthsCompany Details company  Ernst  Young LLPdescription  Fraud Investigations and Dispute Services   AssuranceTECHNOLOGY ASSISTED REVIEWTAR Technology Assisted Review assists in accelerating the review process and run analytics and generate reports Core member of a team helped in developing automated review platform tool from scratch for assisting E discovery domain this tool implements predictive coding and topic modelling by automating reviews resulting in reduced labor costs and time spent during the lawyers review Understand the end to end flow of the solution doing research and development for classification models predictive analysis and mining of the information present in text data Worked on analyzing the outputs and precision monitoring for the entire tool TAR assists in predictive coding topic modelling from the evidence by following EY standards Developed the classifier models in order to identify red flags and fraudrelated issuesTools  Technologies Python scikitlearn tfidf word2vec doc2vec cosine similarity Nave Bayes LDA NMF for topic modelling Vader and text blob for sentiment analysis Matplot lib Tableau dashboard for reportingMULTIPLE DATA SCIENCE AND ANALYTIC PROJECTS USA CLIENTSTEXT ANALYTICS  MOTOR VEHICLE CUSTOMER REVIEW DATA  Received customer feedback survey data for past one year Performed sentiment Positive Negative  Neutral and time series analysis on customer comments across all 4 categories Created heat map of terms by survey category based on frequency of words  Extracted Positive and Negative words across all the Survey categories and plotted Word cloud Created customized tableau dashboards for effective reporting and visualizationsCHATBOT  Developed a user friendly chatbot for one of our Products which handle simple questions about hours of operation reservation options and so on This chat bot serves entire product related questions Giving overview of tool via QA platform and also give recommendation responses so that user question to build chain of relevant answer This too has intelligence to build the pipeline of questions as per user requirement and asks the relevant recommended questionsTools  Technologies Python Natural language processing NLTK spacy topic modelling Sentiment analysis Word Embedding scikitlearn JavaScriptJQuery SqlServerINFORMATION GOVERNANCEOrganizations to make informed decisions about all of the information they store The integrated Information Governance portfolio synthesizes intelligence across unstructured data sources and facilitates action to ensure organizations are best positioned to counter information risk Scan data from multiple sources of formats and parse different file formats extract Meta data information push results for indexing elastic search and created customized interactive dashboards using kibana Preforming ROT Analysis on the data which give information of data which helps identify content that is either Redundant Outdated or Trivial Preforming fulltext search analysis on elastic search with predefined methods which can tag as PII personally identifiable information social security numbers addresses names etc which frequently targeted during cyberattacksTools  Technologies Python Flask Elastic Search KibanaFRAUD ANALYTIC PLATFORMFraud Analytics and investigative platform to review all red flag cases FAP is a Fraud Analytics and investigative platform with inbuilt case manager and suite of Analytics for various ERP systems It can be used by clients to interrogate their Accounting systems for identifying the anomalies which can be indicators of fraud by running advanced analyticsTools  Technologies HTML JavaScript SqlServer JQuery CSS Bootstrap Nodejs D3js DCjs'"
            ],
            "application/vnd.google.colaboratory.intrinsic+json": {
              "type": "string"
            }
          },
          "metadata": {},
          "execution_count": 13
        }
      ]
    },
    {
      "cell_type": "code",
      "source": [
        "from sklearn.preprocessing import LabelEncoder\n",
        "le = LabelEncoder()"
      ],
      "metadata": {
        "id": "gFDsWRUAvl7Z"
      },
      "execution_count": 14,
      "outputs": []
    },
    {
      "cell_type": "code",
      "source": [
        "le.fit(df['Category'])\n",
        "df['Category'] = le.transform(df['Category'])"
      ],
      "metadata": {
        "id": "Kh8C_l7svl4N"
      },
      "execution_count": 15,
      "outputs": []
    },
    {
      "cell_type": "code",
      "source": [
        "df.head()"
      ],
      "metadata": {
        "colab": {
          "base_uri": "https://localhost:8080/",
          "height": 206
        },
        "id": "9xcz20ORvl1S",
        "outputId": "985081ca-f67d-4e68-c73c-8b582c5d6740"
      },
      "execution_count": 16,
      "outputs": [
        {
          "output_type": "execute_result",
          "data": {
            "text/plain": [
              "   Category                                             Resume\n",
              "0         6  Skills  Programming Languages Python pandas nu...\n",
              "1         6  Education Details May 2013 to May 2017 BE   UI...\n",
              "2         6  Areas of Interest Deep Learning Control System...\n",
              "3         6  Skills  R  Python  SAP HANA  Tableau  SAP HANA...\n",
              "4         6  Education Details  MCA   YMCAUST  Faridabad  H..."
            ],
            "text/html": [
              "\n",
              "  <div id=\"df-467cc5c4-b11d-4882-8b21-246e97a88346\" class=\"colab-df-container\">\n",
              "    <div>\n",
              "<style scoped>\n",
              "    .dataframe tbody tr th:only-of-type {\n",
              "        vertical-align: middle;\n",
              "    }\n",
              "\n",
              "    .dataframe tbody tr th {\n",
              "        vertical-align: top;\n",
              "    }\n",
              "\n",
              "    .dataframe thead th {\n",
              "        text-align: right;\n",
              "    }\n",
              "</style>\n",
              "<table border=\"1\" class=\"dataframe\">\n",
              "  <thead>\n",
              "    <tr style=\"text-align: right;\">\n",
              "      <th></th>\n",
              "      <th>Category</th>\n",
              "      <th>Resume</th>\n",
              "    </tr>\n",
              "  </thead>\n",
              "  <tbody>\n",
              "    <tr>\n",
              "      <th>0</th>\n",
              "      <td>6</td>\n",
              "      <td>Skills  Programming Languages Python pandas nu...</td>\n",
              "    </tr>\n",
              "    <tr>\n",
              "      <th>1</th>\n",
              "      <td>6</td>\n",
              "      <td>Education Details May 2013 to May 2017 BE   UI...</td>\n",
              "    </tr>\n",
              "    <tr>\n",
              "      <th>2</th>\n",
              "      <td>6</td>\n",
              "      <td>Areas of Interest Deep Learning Control System...</td>\n",
              "    </tr>\n",
              "    <tr>\n",
              "      <th>3</th>\n",
              "      <td>6</td>\n",
              "      <td>Skills  R  Python  SAP HANA  Tableau  SAP HANA...</td>\n",
              "    </tr>\n",
              "    <tr>\n",
              "      <th>4</th>\n",
              "      <td>6</td>\n",
              "      <td>Education Details  MCA   YMCAUST  Faridabad  H...</td>\n",
              "    </tr>\n",
              "  </tbody>\n",
              "</table>\n",
              "</div>\n",
              "    <div class=\"colab-df-buttons\">\n",
              "\n",
              "  <div class=\"colab-df-container\">\n",
              "    <button class=\"colab-df-convert\" onclick=\"convertToInteractive('df-467cc5c4-b11d-4882-8b21-246e97a88346')\"\n",
              "            title=\"Convert this dataframe to an interactive table.\"\n",
              "            style=\"display:none;\">\n",
              "\n",
              "  <svg xmlns=\"http://www.w3.org/2000/svg\" height=\"24px\" viewBox=\"0 -960 960 960\">\n",
              "    <path d=\"M120-120v-720h720v720H120Zm60-500h600v-160H180v160Zm220 220h160v-160H400v160Zm0 220h160v-160H400v160ZM180-400h160v-160H180v160Zm440 0h160v-160H620v160ZM180-180h160v-160H180v160Zm440 0h160v-160H620v160Z\"/>\n",
              "  </svg>\n",
              "    </button>\n",
              "\n",
              "  <style>\n",
              "    .colab-df-container {\n",
              "      display:flex;\n",
              "      gap: 12px;\n",
              "    }\n",
              "\n",
              "    .colab-df-convert {\n",
              "      background-color: #E8F0FE;\n",
              "      border: none;\n",
              "      border-radius: 50%;\n",
              "      cursor: pointer;\n",
              "      display: none;\n",
              "      fill: #1967D2;\n",
              "      height: 32px;\n",
              "      padding: 0 0 0 0;\n",
              "      width: 32px;\n",
              "    }\n",
              "\n",
              "    .colab-df-convert:hover {\n",
              "      background-color: #E2EBFA;\n",
              "      box-shadow: 0px 1px 2px rgba(60, 64, 67, 0.3), 0px 1px 3px 1px rgba(60, 64, 67, 0.15);\n",
              "      fill: #174EA6;\n",
              "    }\n",
              "\n",
              "    .colab-df-buttons div {\n",
              "      margin-bottom: 4px;\n",
              "    }\n",
              "\n",
              "    [theme=dark] .colab-df-convert {\n",
              "      background-color: #3B4455;\n",
              "      fill: #D2E3FC;\n",
              "    }\n",
              "\n",
              "    [theme=dark] .colab-df-convert:hover {\n",
              "      background-color: #434B5C;\n",
              "      box-shadow: 0px 1px 3px 1px rgba(0, 0, 0, 0.15);\n",
              "      filter: drop-shadow(0px 1px 2px rgba(0, 0, 0, 0.3));\n",
              "      fill: #FFFFFF;\n",
              "    }\n",
              "  </style>\n",
              "\n",
              "    <script>\n",
              "      const buttonEl =\n",
              "        document.querySelector('#df-467cc5c4-b11d-4882-8b21-246e97a88346 button.colab-df-convert');\n",
              "      buttonEl.style.display =\n",
              "        google.colab.kernel.accessAllowed ? 'block' : 'none';\n",
              "\n",
              "      async function convertToInteractive(key) {\n",
              "        const element = document.querySelector('#df-467cc5c4-b11d-4882-8b21-246e97a88346');\n",
              "        const dataTable =\n",
              "          await google.colab.kernel.invokeFunction('convertToInteractive',\n",
              "                                                    [key], {});\n",
              "        if (!dataTable) return;\n",
              "\n",
              "        const docLinkHtml = 'Like what you see? Visit the ' +\n",
              "          '<a target=\"_blank\" href=https://colab.research.google.com/notebooks/data_table.ipynb>data table notebook</a>'\n",
              "          + ' to learn more about interactive tables.';\n",
              "        element.innerHTML = '';\n",
              "        dataTable['output_type'] = 'display_data';\n",
              "        await google.colab.output.renderOutput(dataTable, element);\n",
              "        const docLink = document.createElement('div');\n",
              "        docLink.innerHTML = docLinkHtml;\n",
              "        element.appendChild(docLink);\n",
              "      }\n",
              "    </script>\n",
              "  </div>\n",
              "\n",
              "\n",
              "<div id=\"df-ca5e5a9e-d567-4d5b-9ca2-7edc31a87a7b\">\n",
              "  <button class=\"colab-df-quickchart\" onclick=\"quickchart('df-ca5e5a9e-d567-4d5b-9ca2-7edc31a87a7b')\"\n",
              "            title=\"Suggest charts.\"\n",
              "            style=\"display:none;\">\n",
              "\n",
              "<svg xmlns=\"http://www.w3.org/2000/svg\" height=\"24px\"viewBox=\"0 0 24 24\"\n",
              "     width=\"24px\">\n",
              "    <g>\n",
              "        <path d=\"M19 3H5c-1.1 0-2 .9-2 2v14c0 1.1.9 2 2 2h14c1.1 0 2-.9 2-2V5c0-1.1-.9-2-2-2zM9 17H7v-7h2v7zm4 0h-2V7h2v10zm4 0h-2v-4h2v4z\"/>\n",
              "    </g>\n",
              "</svg>\n",
              "  </button>\n",
              "\n",
              "<style>\n",
              "  .colab-df-quickchart {\n",
              "      --bg-color: #E8F0FE;\n",
              "      --fill-color: #1967D2;\n",
              "      --hover-bg-color: #E2EBFA;\n",
              "      --hover-fill-color: #174EA6;\n",
              "      --disabled-fill-color: #AAA;\n",
              "      --disabled-bg-color: #DDD;\n",
              "  }\n",
              "\n",
              "  [theme=dark] .colab-df-quickchart {\n",
              "      --bg-color: #3B4455;\n",
              "      --fill-color: #D2E3FC;\n",
              "      --hover-bg-color: #434B5C;\n",
              "      --hover-fill-color: #FFFFFF;\n",
              "      --disabled-bg-color: #3B4455;\n",
              "      --disabled-fill-color: #666;\n",
              "  }\n",
              "\n",
              "  .colab-df-quickchart {\n",
              "    background-color: var(--bg-color);\n",
              "    border: none;\n",
              "    border-radius: 50%;\n",
              "    cursor: pointer;\n",
              "    display: none;\n",
              "    fill: var(--fill-color);\n",
              "    height: 32px;\n",
              "    padding: 0;\n",
              "    width: 32px;\n",
              "  }\n",
              "\n",
              "  .colab-df-quickchart:hover {\n",
              "    background-color: var(--hover-bg-color);\n",
              "    box-shadow: 0 1px 2px rgba(60, 64, 67, 0.3), 0 1px 3px 1px rgba(60, 64, 67, 0.15);\n",
              "    fill: var(--button-hover-fill-color);\n",
              "  }\n",
              "\n",
              "  .colab-df-quickchart-complete:disabled,\n",
              "  .colab-df-quickchart-complete:disabled:hover {\n",
              "    background-color: var(--disabled-bg-color);\n",
              "    fill: var(--disabled-fill-color);\n",
              "    box-shadow: none;\n",
              "  }\n",
              "\n",
              "  .colab-df-spinner {\n",
              "    border: 2px solid var(--fill-color);\n",
              "    border-color: transparent;\n",
              "    border-bottom-color: var(--fill-color);\n",
              "    animation:\n",
              "      spin 1s steps(1) infinite;\n",
              "  }\n",
              "\n",
              "  @keyframes spin {\n",
              "    0% {\n",
              "      border-color: transparent;\n",
              "      border-bottom-color: var(--fill-color);\n",
              "      border-left-color: var(--fill-color);\n",
              "    }\n",
              "    20% {\n",
              "      border-color: transparent;\n",
              "      border-left-color: var(--fill-color);\n",
              "      border-top-color: var(--fill-color);\n",
              "    }\n",
              "    30% {\n",
              "      border-color: transparent;\n",
              "      border-left-color: var(--fill-color);\n",
              "      border-top-color: var(--fill-color);\n",
              "      border-right-color: var(--fill-color);\n",
              "    }\n",
              "    40% {\n",
              "      border-color: transparent;\n",
              "      border-right-color: var(--fill-color);\n",
              "      border-top-color: var(--fill-color);\n",
              "    }\n",
              "    60% {\n",
              "      border-color: transparent;\n",
              "      border-right-color: var(--fill-color);\n",
              "    }\n",
              "    80% {\n",
              "      border-color: transparent;\n",
              "      border-right-color: var(--fill-color);\n",
              "      border-bottom-color: var(--fill-color);\n",
              "    }\n",
              "    90% {\n",
              "      border-color: transparent;\n",
              "      border-bottom-color: var(--fill-color);\n",
              "    }\n",
              "  }\n",
              "</style>\n",
              "\n",
              "  <script>\n",
              "    async function quickchart(key) {\n",
              "      const quickchartButtonEl =\n",
              "        document.querySelector('#' + key + ' button');\n",
              "      quickchartButtonEl.disabled = true;  // To prevent multiple clicks.\n",
              "      quickchartButtonEl.classList.add('colab-df-spinner');\n",
              "      try {\n",
              "        const charts = await google.colab.kernel.invokeFunction(\n",
              "            'suggestCharts', [key], {});\n",
              "      } catch (error) {\n",
              "        console.error('Error during call to suggestCharts:', error);\n",
              "      }\n",
              "      quickchartButtonEl.classList.remove('colab-df-spinner');\n",
              "      quickchartButtonEl.classList.add('colab-df-quickchart-complete');\n",
              "    }\n",
              "    (() => {\n",
              "      let quickchartButtonEl =\n",
              "        document.querySelector('#df-ca5e5a9e-d567-4d5b-9ca2-7edc31a87a7b button');\n",
              "      quickchartButtonEl.style.display =\n",
              "        google.colab.kernel.accessAllowed ? 'block' : 'none';\n",
              "    })();\n",
              "  </script>\n",
              "</div>\n",
              "    </div>\n",
              "  </div>\n"
            ]
          },
          "metadata": {},
          "execution_count": 16
        }
      ]
    },
    {
      "cell_type": "code",
      "source": [
        "# Access the mapping of labels to categories\n",
        "label_to_category = dict(zip(le.transform(le.classes_), le.classes_))\n",
        "\n",
        "# Print the mapping\n",
        "for label, category in label_to_category.items():\n",
        "    print(f\"Label {label} corresponds to Category '{category}'\")"
      ],
      "metadata": {
        "colab": {
          "base_uri": "https://localhost:8080/"
        },
        "id": "57e54lyqvlzt",
        "outputId": "7b20c96f-4651-4d1d-b53d-349cf3f190dd"
      },
      "execution_count": 17,
      "outputs": [
        {
          "output_type": "stream",
          "name": "stdout",
          "text": [
            "Label 0 corresponds to Category 'Advocate'\n",
            "Label 1 corresponds to Category 'Arts'\n",
            "Label 2 corresponds to Category 'Automation Testing'\n",
            "Label 3 corresponds to Category 'Blockchain'\n",
            "Label 4 corresponds to Category 'Business Analyst'\n",
            "Label 5 corresponds to Category 'Civil Engineer'\n",
            "Label 6 corresponds to Category 'Data Science'\n",
            "Label 7 corresponds to Category 'Database'\n",
            "Label 8 corresponds to Category 'DevOps Engineer'\n",
            "Label 9 corresponds to Category 'DotNet Developer'\n",
            "Label 10 corresponds to Category 'ETL Developer'\n",
            "Label 11 corresponds to Category 'Electrical Engineering'\n",
            "Label 12 corresponds to Category 'HR'\n",
            "Label 13 corresponds to Category 'Hadoop'\n",
            "Label 14 corresponds to Category 'Health and fitness'\n",
            "Label 15 corresponds to Category 'Java Developer'\n",
            "Label 16 corresponds to Category 'Mechanical Engineer'\n",
            "Label 17 corresponds to Category 'Network Security Engineer'\n",
            "Label 18 corresponds to Category 'Operations Manager'\n",
            "Label 19 corresponds to Category 'PMO'\n",
            "Label 20 corresponds to Category 'Python Developer'\n",
            "Label 21 corresponds to Category 'SAP Developer'\n",
            "Label 22 corresponds to Category 'Sales'\n",
            "Label 23 corresponds to Category 'Testing'\n",
            "Label 24 corresponds to Category 'Web Designing'\n"
          ]
        }
      ]
    },
    {
      "cell_type": "code",
      "source": [
        "import nltk\n",
        "from nltk.corpus import stopwords\n",
        "nltk.download('stopwords')"
      ],
      "metadata": {
        "colab": {
          "base_uri": "https://localhost:8080/"
        },
        "id": "xvHhMd5LvlvX",
        "outputId": "eb870138-48d4-4156-cf1a-155218e924fe"
      },
      "execution_count": 18,
      "outputs": [
        {
          "output_type": "stream",
          "name": "stderr",
          "text": [
            "[nltk_data] Downloading package stopwords to /root/nltk_data...\n",
            "[nltk_data]   Unzipping corpora/stopwords.zip.\n"
          ]
        },
        {
          "output_type": "execute_result",
          "data": {
            "text/plain": [
              "True"
            ]
          },
          "metadata": {},
          "execution_count": 18
        }
      ]
    },
    {
      "cell_type": "code",
      "source": [
        "def remove_stopwords(text):\n",
        "    stop_words = set(stopwords.words('english'))\n",
        "    words = text.split()\n",
        "    filtered_words = [word for word in words if word.lower() not in stop_words]\n",
        "    return ' '.join(filtered_words)\n",
        "\n",
        "df['Resume'] = df['Resume'].apply(remove_stopwords)"
      ],
      "metadata": {
        "id": "HDvjLp1vvlsv"
      },
      "execution_count": 19,
      "outputs": []
    },
    {
      "cell_type": "code",
      "source": [
        "df['Resume']"
      ],
      "metadata": {
        "colab": {
          "base_uri": "https://localhost:8080/"
        },
        "id": "DmJarB8Ivlon",
        "outputId": "d72effc4-730f-49f1-97fa-ac4137f4a1f2"
      },
      "execution_count": 20,
      "outputs": [
        {
          "output_type": "execute_result",
          "data": {
            "text/plain": [
              "0      Skills Programming Languages Python pandas num...\n",
              "1      Education Details May 2013 May 2017 UITRGPVDat...\n",
              "2      Areas Interest Deep Learning Control System De...\n",
              "3      Skills R Python SAP HANA Tableau SAP HANA SQL ...\n",
              "4      Education Details MCA YMCAUST Faridabad Haryan...\n",
              "                             ...                        \n",
              "957    Computer Skills Proficient MS office Word Basi...\n",
              "958    Willingness accept challenges Positive thinkin...\n",
              "959    PERSONAL SKILLS Quick learner Eagerness learn ...\n",
              "960    COMPUTER SKILLS SOFTWARE KNOWLEDGE MSPower Poi...\n",
              "961    Skill Set OS Windows XP788110 Database MYSQL s...\n",
              "Name: Resume, Length: 962, dtype: object"
            ]
          },
          "metadata": {},
          "execution_count": 20
        }
      ]
    },
    {
      "cell_type": "code",
      "source": [
        "df['Resume'][0]"
      ],
      "metadata": {
        "colab": {
          "base_uri": "https://localhost:8080/",
          "height": 140
        },
        "id": "GAdNZWkm2zjn",
        "outputId": "04892258-d17b-47cb-f529-b58a697d910b"
      },
      "execution_count": 21,
      "outputs": [
        {
          "output_type": "execute_result",
          "data": {
            "text/plain": [
              "'Skills Programming Languages Python pandas numpy scipy scikitlearn matplotlib Sql Java JavaScriptJQuery Machine learning Regression SVM Nave Bayes KNN Random Forest Decision Trees Boosting techniques Cluster Analysis Word Embedding Sentiment Analysis Natural Language processing Dimensionality reduction Topic Modelling LDA NMF PCA Neural Nets Database Visualizations Mysql SqlServer Cassandra Hbase ElasticSearch D3js DCjs Plotly kibana matplotlib ggplot Tableau Others Regular Expression HTML CSS Angular 6 Logstash Kafka Python Flask Git Docker computer vision Open CV understanding Deep learningEducation Details Data Science Assurance Associate Data Science Assurance Associate Ernst Young LLPSkill Details JAVASCRIPT Exprience 24 monthsjQuery Exprience 24 monthsPython Exprience 24 monthsCompany Details company Ernst Young LLPdescription Fraud Investigations Dispute Services AssuranceTECHNOLOGY ASSISTED REVIEWTAR Technology Assisted Review assists accelerating review process run analytics generate reports Core member team helped developing automated review platform tool scratch assisting E discovery domain tool implements predictive coding topic modelling automating reviews resulting reduced labor costs time spent lawyers review Understand end end flow solution research development classification models predictive analysis mining information present text data Worked analyzing outputs precision monitoring entire tool TAR assists predictive coding topic modelling evidence following EY standards Developed classifier models order identify red flags fraudrelated issuesTools Technologies Python scikitlearn tfidf word2vec doc2vec cosine similarity Nave Bayes LDA NMF topic modelling Vader text blob sentiment analysis Matplot lib Tableau dashboard reportingMULTIPLE DATA SCIENCE ANALYTIC PROJECTS USA CLIENTSTEXT ANALYTICS MOTOR VEHICLE CUSTOMER REVIEW DATA Received customer feedback survey data past one year Performed sentiment Positive Negative Neutral time series analysis customer comments across 4 categories Created heat map terms survey category based frequency words Extracted Positive Negative words across Survey categories plotted Word cloud Created customized tableau dashboards effective reporting visualizationsCHATBOT Developed user friendly chatbot one Products handle simple questions hours operation reservation options chat bot serves entire product related questions Giving overview tool via QA platform also give recommendation responses user question build chain relevant answer intelligence build pipeline questions per user requirement asks relevant recommended questionsTools Technologies Python Natural language processing NLTK spacy topic modelling Sentiment analysis Word Embedding scikitlearn JavaScriptJQuery SqlServerINFORMATION GOVERNANCEOrganizations make informed decisions information store integrated Information Governance portfolio synthesizes intelligence across unstructured data sources facilitates action ensure organizations best positioned counter information risk Scan data multiple sources formats parse different file formats extract Meta data information push results indexing elastic search created customized interactive dashboards using kibana Preforming ROT Analysis data give information data helps identify content either Redundant Outdated Trivial Preforming fulltext search analysis elastic search predefined methods tag PII personally identifiable information social security numbers addresses names etc frequently targeted cyberattacksTools Technologies Python Flask Elastic Search KibanaFRAUD ANALYTIC PLATFORMFraud Analytics investigative platform review red flag cases FAP Fraud Analytics investigative platform inbuilt case manager suite Analytics various ERP systems used clients interrogate Accounting systems identifying anomalies indicators fraud running advanced analyticsTools Technologies HTML JavaScript SqlServer JQuery CSS Bootstrap Nodejs D3js DCjs'"
            ],
            "application/vnd.google.colaboratory.intrinsic+json": {
              "type": "string"
            }
          },
          "metadata": {},
          "execution_count": 21
        }
      ]
    },
    {
      "cell_type": "code",
      "source": [
        "from nltk.stem import WordNetLemmatizer\n",
        "nltk.download('punkt')\n",
        "nltk.download('wordnet')\n",
        "\n",
        "lemmatizer = WordNetLemmatizer()"
      ],
      "metadata": {
        "colab": {
          "base_uri": "https://localhost:8080/"
        },
        "id": "f0bQSzy72tM3",
        "outputId": "050b455b-70cb-407d-ff56-d4cb67886ffb"
      },
      "execution_count": 22,
      "outputs": [
        {
          "output_type": "stream",
          "name": "stderr",
          "text": [
            "[nltk_data] Downloading package punkt to /root/nltk_data...\n",
            "[nltk_data]   Unzipping tokenizers/punkt.zip.\n",
            "[nltk_data] Downloading package wordnet to /root/nltk_data...\n"
          ]
        }
      ]
    },
    {
      "cell_type": "code",
      "source": [
        "def lemmatize(text):\n",
        "  words = nltk.word_tokenize(text)\n",
        "  lemmatized_words = [lemmatizer.lemmatize(word) for word in words]\n",
        "  lemmatized_text = ' '.join(lemmatized_words)\n",
        "\n",
        "  return lemmatized_text"
      ],
      "metadata": {
        "id": "c1ILMolnvlgS"
      },
      "execution_count": 23,
      "outputs": []
    },
    {
      "cell_type": "code",
      "source": [
        "df['Resume'] = df['Resume'].apply(lemmatize)"
      ],
      "metadata": {
        "id": "4wmB4VNBvleW"
      },
      "execution_count": 24,
      "outputs": []
    },
    {
      "cell_type": "code",
      "source": [
        "df['Resume'][0]"
      ],
      "metadata": {
        "colab": {
          "base_uri": "https://localhost:8080/",
          "height": 140
        },
        "id": "07UP5EAHvlas",
        "outputId": "c8a353af-b88c-4dda-ca9c-d0b717ecc432"
      },
      "execution_count": 25,
      "outputs": [
        {
          "output_type": "execute_result",
          "data": {
            "text/plain": [
              "'Skills Programming Languages Python panda numpy scipy scikitlearn matplotlib Sql Java JavaScriptJQuery Machine learning Regression SVM Nave Bayes KNN Random Forest Decision Trees Boosting technique Cluster Analysis Word Embedding Sentiment Analysis Natural Language processing Dimensionality reduction Topic Modelling LDA NMF PCA Neural Nets Database Visualizations Mysql SqlServer Cassandra Hbase ElasticSearch D3js DCjs Plotly kibana matplotlib ggplot Tableau Others Regular Expression HTML CSS Angular 6 Logstash Kafka Python Flask Git Docker computer vision Open CV understanding Deep learningEducation Details Data Science Assurance Associate Data Science Assurance Associate Ernst Young LLPSkill Details JAVASCRIPT Exprience 24 monthsjQuery Exprience 24 monthsPython Exprience 24 monthsCompany Details company Ernst Young LLPdescription Fraud Investigations Dispute Services AssuranceTECHNOLOGY ASSISTED REVIEWTAR Technology Assisted Review assist accelerating review process run analytics generate report Core member team helped developing automated review platform tool scratch assisting E discovery domain tool implement predictive coding topic modelling automating review resulting reduced labor cost time spent lawyer review Understand end end flow solution research development classification model predictive analysis mining information present text data Worked analyzing output precision monitoring entire tool TAR assist predictive coding topic modelling evidence following EY standard Developed classifier model order identify red flag fraudrelated issuesTools Technologies Python scikitlearn tfidf word2vec doc2vec cosine similarity Nave Bayes LDA NMF topic modelling Vader text blob sentiment analysis Matplot lib Tableau dashboard reportingMULTIPLE DATA SCIENCE ANALYTIC PROJECTS USA CLIENTSTEXT ANALYTICS MOTOR VEHICLE CUSTOMER REVIEW DATA Received customer feedback survey data past one year Performed sentiment Positive Negative Neutral time series analysis customer comment across 4 category Created heat map term survey category based frequency word Extracted Positive Negative word across Survey category plotted Word cloud Created customized tableau dashboard effective reporting visualizationsCHATBOT Developed user friendly chatbot one Products handle simple question hour operation reservation option chat bot serf entire product related question Giving overview tool via QA platform also give recommendation response user question build chain relevant answer intelligence build pipeline question per user requirement asks relevant recommended questionsTools Technologies Python Natural language processing NLTK spacy topic modelling Sentiment analysis Word Embedding scikitlearn JavaScriptJQuery SqlServerINFORMATION GOVERNANCEOrganizations make informed decision information store integrated Information Governance portfolio synthesizes intelligence across unstructured data source facilitates action ensure organization best positioned counter information risk Scan data multiple source format parse different file format extract Meta data information push result indexing elastic search created customized interactive dashboard using kibana Preforming ROT Analysis data give information data help identify content either Redundant Outdated Trivial Preforming fulltext search analysis elastic search predefined method tag PII personally identifiable information social security number address name etc frequently targeted cyberattacksTools Technologies Python Flask Elastic Search KibanaFRAUD ANALYTIC PLATFORMFraud Analytics investigative platform review red flag case FAP Fraud Analytics investigative platform inbuilt case manager suite Analytics various ERP system used client interrogate Accounting system identifying anomaly indicator fraud running advanced analyticsTools Technologies HTML JavaScript SqlServer JQuery CSS Bootstrap Nodejs D3js DCjs'"
            ],
            "application/vnd.google.colaboratory.intrinsic+json": {
              "type": "string"
            }
          },
          "metadata": {},
          "execution_count": 25
        }
      ]
    },
    {
      "cell_type": "code",
      "source": [
        "from sklearn.feature_extraction.text import TfidfVectorizer\n",
        "\n",
        "tfidf = TfidfVectorizer()\n",
        "\n",
        "tfidf.fit(df['Resume'])\n",
        "\n",
        "tfidf_matrix = tfidf.transform(df['Resume'])"
      ],
      "metadata": {
        "id": "Dud8ktsXvlX3"
      },
      "execution_count": 26,
      "outputs": []
    },
    {
      "cell_type": "code",
      "source": [
        "tfidf_matrix"
      ],
      "metadata": {
        "colab": {
          "base_uri": "https://localhost:8080/"
        },
        "id": "NspjUumHvlSu",
        "outputId": "7f9c5af6-112e-4bbd-9165-c9475067423e"
      },
      "execution_count": 27,
      "outputs": [
        {
          "output_type": "execute_result",
          "data": {
            "text/plain": [
              "<962x9531 sparse matrix of type '<class 'numpy.float64'>'\n",
              "\twith 171572 stored elements in Compressed Sparse Row format>"
            ]
          },
          "metadata": {},
          "execution_count": 27
        }
      ]
    },
    {
      "cell_type": "code",
      "source": [
        "feature_names = tfidf.get_feature_names_out()\n"
      ],
      "metadata": {
        "id": "lp2VpuGQvlOo"
      },
      "execution_count": 28,
      "outputs": []
    },
    {
      "cell_type": "code",
      "source": [
        "tfidf_df = pd.DataFrame(tfidf_matrix.toarray(), columns=feature_names)\n"
      ],
      "metadata": {
        "id": "kpLXO_--vlK1"
      },
      "execution_count": 29,
      "outputs": []
    },
    {
      "cell_type": "code",
      "source": [
        "tfidf_df.shape"
      ],
      "metadata": {
        "colab": {
          "base_uri": "https://localhost:8080/"
        },
        "id": "fIs_NnAjvlHc",
        "outputId": "e3ef278f-c619-4687-bbdf-092043bad747"
      },
      "execution_count": 30,
      "outputs": [
        {
          "output_type": "execute_result",
          "data": {
            "text/plain": [
              "(962, 9531)"
            ]
          },
          "metadata": {},
          "execution_count": 30
        }
      ]
    },
    {
      "cell_type": "code",
      "source": [
        "from sklearn.model_selection import train_test_split\n",
        "\n",
        "X_train, X_test, y_train, y_test = train_test_split(tfidf_matrix, df['Category'], test_size=0.2, random_state=24)"
      ],
      "metadata": {
        "id": "MhEGBDTuvlEr"
      },
      "execution_count": 31,
      "outputs": []
    },
    {
      "cell_type": "code",
      "source": [
        "X_train.shape"
      ],
      "metadata": {
        "colab": {
          "base_uri": "https://localhost:8080/"
        },
        "id": "l2Vs-Q82vlB2",
        "outputId": "2c2f5eae-448f-4db0-e844-983f7523c5bc"
      },
      "execution_count": 32,
      "outputs": [
        {
          "output_type": "execute_result",
          "data": {
            "text/plain": [
              "(769, 9531)"
            ]
          },
          "metadata": {},
          "execution_count": 32
        }
      ]
    },
    {
      "cell_type": "code",
      "source": [
        "from sklearn.neighbors import KNeighborsClassifier\n",
        "from sklearn.multiclass import OneVsRestClassifier\n",
        "\n",
        "clf = OneVsRestClassifier(KNeighborsClassifier())\n",
        "\n",
        "clf.fit(X_train, y_train)"
      ],
      "metadata": {
        "colab": {
          "base_uri": "https://localhost:8080/",
          "height": 118
        },
        "id": "3E335k6cvk_q",
        "outputId": "ffd93d5f-2cf7-4b06-c074-a449813e5ce2"
      },
      "execution_count": 33,
      "outputs": [
        {
          "output_type": "execute_result",
          "data": {
            "text/plain": [
              "OneVsRestClassifier(estimator=KNeighborsClassifier())"
            ],
            "text/html": [
              "<style>#sk-container-id-1 {color: black;background-color: white;}#sk-container-id-1 pre{padding: 0;}#sk-container-id-1 div.sk-toggleable {background-color: white;}#sk-container-id-1 label.sk-toggleable__label {cursor: pointer;display: block;width: 100%;margin-bottom: 0;padding: 0.3em;box-sizing: border-box;text-align: center;}#sk-container-id-1 label.sk-toggleable__label-arrow:before {content: \"▸\";float: left;margin-right: 0.25em;color: #696969;}#sk-container-id-1 label.sk-toggleable__label-arrow:hover:before {color: black;}#sk-container-id-1 div.sk-estimator:hover label.sk-toggleable__label-arrow:before {color: black;}#sk-container-id-1 div.sk-toggleable__content {max-height: 0;max-width: 0;overflow: hidden;text-align: left;background-color: #f0f8ff;}#sk-container-id-1 div.sk-toggleable__content pre {margin: 0.2em;color: black;border-radius: 0.25em;background-color: #f0f8ff;}#sk-container-id-1 input.sk-toggleable__control:checked~div.sk-toggleable__content {max-height: 200px;max-width: 100%;overflow: auto;}#sk-container-id-1 input.sk-toggleable__control:checked~label.sk-toggleable__label-arrow:before {content: \"▾\";}#sk-container-id-1 div.sk-estimator input.sk-toggleable__control:checked~label.sk-toggleable__label {background-color: #d4ebff;}#sk-container-id-1 div.sk-label input.sk-toggleable__control:checked~label.sk-toggleable__label {background-color: #d4ebff;}#sk-container-id-1 input.sk-hidden--visually {border: 0;clip: rect(1px 1px 1px 1px);clip: rect(1px, 1px, 1px, 1px);height: 1px;margin: -1px;overflow: hidden;padding: 0;position: absolute;width: 1px;}#sk-container-id-1 div.sk-estimator {font-family: monospace;background-color: #f0f8ff;border: 1px dotted black;border-radius: 0.25em;box-sizing: border-box;margin-bottom: 0.5em;}#sk-container-id-1 div.sk-estimator:hover {background-color: #d4ebff;}#sk-container-id-1 div.sk-parallel-item::after {content: \"\";width: 100%;border-bottom: 1px solid gray;flex-grow: 1;}#sk-container-id-1 div.sk-label:hover label.sk-toggleable__label {background-color: #d4ebff;}#sk-container-id-1 div.sk-serial::before {content: \"\";position: absolute;border-left: 1px solid gray;box-sizing: border-box;top: 0;bottom: 0;left: 50%;z-index: 0;}#sk-container-id-1 div.sk-serial {display: flex;flex-direction: column;align-items: center;background-color: white;padding-right: 0.2em;padding-left: 0.2em;position: relative;}#sk-container-id-1 div.sk-item {position: relative;z-index: 1;}#sk-container-id-1 div.sk-parallel {display: flex;align-items: stretch;justify-content: center;background-color: white;position: relative;}#sk-container-id-1 div.sk-item::before, #sk-container-id-1 div.sk-parallel-item::before {content: \"\";position: absolute;border-left: 1px solid gray;box-sizing: border-box;top: 0;bottom: 0;left: 50%;z-index: -1;}#sk-container-id-1 div.sk-parallel-item {display: flex;flex-direction: column;z-index: 1;position: relative;background-color: white;}#sk-container-id-1 div.sk-parallel-item:first-child::after {align-self: flex-end;width: 50%;}#sk-container-id-1 div.sk-parallel-item:last-child::after {align-self: flex-start;width: 50%;}#sk-container-id-1 div.sk-parallel-item:only-child::after {width: 0;}#sk-container-id-1 div.sk-dashed-wrapped {border: 1px dashed gray;margin: 0 0.4em 0.5em 0.4em;box-sizing: border-box;padding-bottom: 0.4em;background-color: white;}#sk-container-id-1 div.sk-label label {font-family: monospace;font-weight: bold;display: inline-block;line-height: 1.2em;}#sk-container-id-1 div.sk-label-container {text-align: center;}#sk-container-id-1 div.sk-container {/* jupyter's `normalize.less` sets `[hidden] { display: none; }` but bootstrap.min.css set `[hidden] { display: none !important; }` so we also need the `!important` here to be able to override the default hidden behavior on the sphinx rendered scikit-learn.org. See: https://github.com/scikit-learn/scikit-learn/issues/21755 */display: inline-block !important;position: relative;}#sk-container-id-1 div.sk-text-repr-fallback {display: none;}</style><div id=\"sk-container-id-1\" class=\"sk-top-container\"><div class=\"sk-text-repr-fallback\"><pre>OneVsRestClassifier(estimator=KNeighborsClassifier())</pre><b>In a Jupyter environment, please rerun this cell to show the HTML representation or trust the notebook. <br />On GitHub, the HTML representation is unable to render, please try loading this page with nbviewer.org.</b></div><div class=\"sk-container\" hidden><div class=\"sk-item sk-dashed-wrapped\"><div class=\"sk-label-container\"><div class=\"sk-label sk-toggleable\"><input class=\"sk-toggleable__control sk-hidden--visually\" id=\"sk-estimator-id-1\" type=\"checkbox\" ><label for=\"sk-estimator-id-1\" class=\"sk-toggleable__label sk-toggleable__label-arrow\">OneVsRestClassifier</label><div class=\"sk-toggleable__content\"><pre>OneVsRestClassifier(estimator=KNeighborsClassifier())</pre></div></div></div><div class=\"sk-parallel\"><div class=\"sk-parallel-item\"><div class=\"sk-item\"><div class=\"sk-label-container\"><div class=\"sk-label sk-toggleable\"><input class=\"sk-toggleable__control sk-hidden--visually\" id=\"sk-estimator-id-2\" type=\"checkbox\" ><label for=\"sk-estimator-id-2\" class=\"sk-toggleable__label sk-toggleable__label-arrow\">estimator: KNeighborsClassifier</label><div class=\"sk-toggleable__content\"><pre>KNeighborsClassifier()</pre></div></div></div><div class=\"sk-serial\"><div class=\"sk-item\"><div class=\"sk-estimator sk-toggleable\"><input class=\"sk-toggleable__control sk-hidden--visually\" id=\"sk-estimator-id-3\" type=\"checkbox\" ><label for=\"sk-estimator-id-3\" class=\"sk-toggleable__label sk-toggleable__label-arrow\">KNeighborsClassifier</label><div class=\"sk-toggleable__content\"><pre>KNeighborsClassifier()</pre></div></div></div></div></div></div></div></div></div></div>"
            ]
          },
          "metadata": {},
          "execution_count": 33
        }
      ]
    },
    {
      "cell_type": "code",
      "source": [
        "from sklearn.metrics import accuracy_score, confusion_matrix"
      ],
      "metadata": {
        "id": "AQ6AzQFjvk78"
      },
      "execution_count": 34,
      "outputs": []
    },
    {
      "cell_type": "code",
      "source": [
        "y_pred = clf.predict(X_test)"
      ],
      "metadata": {
        "id": "fdlZf3FRvk5I"
      },
      "execution_count": 35,
      "outputs": []
    },
    {
      "cell_type": "code",
      "source": [
        "y_pred"
      ],
      "metadata": {
        "colab": {
          "base_uri": "https://localhost:8080/"
        },
        "id": "0-D-zUrV-k3r",
        "outputId": "dbdbce60-5b83-49c8-b75a-00f74b553ff4"
      },
      "execution_count": 36,
      "outputs": [
        {
          "output_type": "execute_result",
          "data": {
            "text/plain": [
              "array([22, 10, 16,  1,  6, 15, 10,  9,  6,  1, 11,  1, 22, 23, 24, 20, 21,\n",
              "       23, 24, 10, 24, 22, 22,  5, 10, 18,  2, 23, 20, 17, 12, 20, 13, 22,\n",
              "       15, 11, 23, 14, 20, 20, 12,  3, 15, 18, 23,  4,  1, 15, 23, 18, 15,\n",
              "        9, 21, 14, 11, 16, 20, 19, 18, 11,  5,  8, 19,  1, 10, 16, 11, 21,\n",
              "        5, 16, 23,  1,  1, 15, 24,  4, 17,  7, 20,  3, 21, 23, 10, 23, 15,\n",
              "       10, 23,  7,  8, 23,  8, 14, 14,  6, 18, 17, 23, 10, 13, 15, 22, 15,\n",
              "       18, 20,  3,  9, 20,  8, 16, 11,  8, 24, 18, 21, 11, 15,  9, 15, 13,\n",
              "       16,  1,  8, 15,  8, 24, 13, 14, 12,  7, 19, 14,  1, 16,  9, 19, 10,\n",
              "       11,  3,  8, 15, 22, 19, 15, 23,  3, 17,  2,  2, 14, 19,  8, 20, 11,\n",
              "       12,  7, 19, 22, 13, 24,  3, 24,  9, 14,  3, 10,  1, 19, 22, 13, 15,\n",
              "       17,  0, 18, 15,  6, 21, 24, 20, 17,  8,  3, 11,  4,  2,  7, 20,  7,\n",
              "        3, 20,  0,  1, 21, 24])"
            ]
          },
          "metadata": {},
          "execution_count": 36
        }
      ]
    },
    {
      "cell_type": "code",
      "source": [
        "accuracy_score(y_test, y_pred)"
      ],
      "metadata": {
        "colab": {
          "base_uri": "https://localhost:8080/"
        },
        "id": "EovCCM-u-mMW",
        "outputId": "3db19b63-3793-4f09-bde6-a9938e009385"
      },
      "execution_count": 37,
      "outputs": [
        {
          "output_type": "execute_result",
          "data": {
            "text/plain": [
              "0.9430051813471503"
            ]
          },
          "metadata": {},
          "execution_count": 37
        }
      ]
    },
    {
      "cell_type": "code",
      "source": [
        "from sklearn.metrics import f1_score"
      ],
      "metadata": {
        "id": "c3fCSdun_-1X"
      },
      "execution_count": 38,
      "outputs": []
    },
    {
      "cell_type": "code",
      "source": [
        "from sklearn.metrics import classification_report\n",
        "\n",
        "report = classification_report(y_test, y_pred)\n",
        "print(report)\n"
      ],
      "metadata": {
        "colab": {
          "base_uri": "https://localhost:8080/"
        },
        "id": "eWY1Le53AOL7",
        "outputId": "b06700fd-7188-469c-8af6-60a58da20f66"
      },
      "execution_count": 39,
      "outputs": [
        {
          "output_type": "stream",
          "name": "stdout",
          "text": [
            "              precision    recall  f1-score   support\n",
            "\n",
            "           0       1.00      0.50      0.67         4\n",
            "           1       0.82      1.00      0.90         9\n",
            "           2       1.00      0.67      0.80         6\n",
            "           3       1.00      1.00      1.00         9\n",
            "           4       1.00      1.00      1.00         3\n",
            "           5       1.00      1.00      1.00         3\n",
            "           6       1.00      0.57      0.73         7\n",
            "           7       1.00      1.00      1.00         6\n",
            "           8       1.00      1.00      1.00        10\n",
            "           9       1.00      1.00      1.00         6\n",
            "          10       1.00      1.00      1.00        10\n",
            "          11       0.80      1.00      0.89         8\n",
            "          12       0.50      0.33      0.40         6\n",
            "          13       1.00      1.00      1.00         6\n",
            "          14       1.00      1.00      1.00         8\n",
            "          15       1.00      1.00      1.00        16\n",
            "          16       1.00      1.00      1.00         7\n",
            "          17       1.00      1.00      1.00         6\n",
            "          18       1.00      1.00      1.00         8\n",
            "          19       1.00      1.00      1.00         8\n",
            "          20       0.85      1.00      0.92        11\n",
            "          21       0.57      1.00      0.73         4\n",
            "          22       1.00      1.00      1.00         9\n",
            "          23       1.00      1.00      1.00        13\n",
            "          24       1.00      1.00      1.00        10\n",
            "\n",
            "    accuracy                           0.94       193\n",
            "   macro avg       0.94      0.92      0.92       193\n",
            "weighted avg       0.95      0.94      0.94       193\n",
            "\n"
          ]
        }
      ]
    },
    {
      "cell_type": "code",
      "source": [
        "# import pickle\n",
        "# tfidf_path = '/content/drive/MyDrive/resume_screening_NLP/tfidf.pkl'\n",
        "# pickle.dump(tfidf, open(tfidf_path, \"wb\"))"
      ],
      "metadata": {
        "id": "E6Orok03GFF8"
      },
      "execution_count": 40,
      "outputs": []
    },
    {
      "cell_type": "code",
      "source": [
        "# model_path = '/content/drive/MyDrive/resume_screening_NLP/clf.pkl'\n",
        "# pickle.dump(clf, open(model_path, 'wb'))"
      ],
      "metadata": {
        "id": "8sp8mi5bGWcL"
      },
      "execution_count": 41,
      "outputs": []
    },
    {
      "cell_type": "code",
      "source": [
        "import re\n",
        "\n",
        "# Provided resume text\n",
        "resume_text = '''\n",
        "SANJEEV KUMAR THAKUR\n",
        "OBJECTIVE\n",
        "Driven and ready to thrive in demanding digital intelligence processing environments. Well-informed on the latest machine learning advancements. Willing to combine tireless hunger for new skills with the desire to exploit cutting-edge data science technology.\n",
        "WORK EXPERIENCE\n",
        "Operations Executive — Derbii July 2018 - January 2019\n",
        "● Strategically coordinated operations according to objectives and capabilities, e�ectively allocating resources to meet demands.\n",
        "● Defined strategic goals and worked with the team.\n",
        "SELF PROJECTS\n",
        "Yolov5 Drowsiness Detection — Deep Learning\n",
        "● Built a real-time drowsiness detection model using YOLO(You Only Look Once) algorithm by Yolov5 represented by Ultralytics open-source research.\n",
        "● Performed this using PyTorch and yolov5 by ultralytics.\n",
        "● Accuracy of almost 99.95%.\n",
        "Cardiovascular Risk Prediction — Classification\n",
        "● Built a cardiovascular risk prediction using various classification algorithms like k-nn, logistic regression, support vector machine etc.\n",
        "● Used SMOTE to handle class imbalance for the target variable.\n",
        "● Categorical accuracy of almost 95.9% and F1 Score of 90%. Automatic Attendance System — Deep Learning\n",
        "● This program recognises faces from live video feeds and marks the attendance to a CSV file.\n",
        "● This uses popular libraries like OpenCV and face_recognition.\n",
        "Lipread- Speech Recognition — Deep Learning\n",
        "● In this project, we tried to build a deep learning model to\n",
        "recognise spoken words from a person’s lip movements.\n",
        "● We used libraries like OpenCV and TensorFlow and also created a streamlit app.\n",
        "New Delhi +91-8826081844 skaty5678@gmail.com\n",
        "EDUCATION\n",
        "B.Sc (H) Mathematics\n",
        "University of Delhi, New Delhi - 2015-2018\n",
        "SKILLS\n",
        "Data Science, Data Analytics, Machine Learning, Deep Learning, Computer Vision, Python, Tensorflow, SQL, PyTorch, Scrapy, Tableau, Sklearn, MongoDB, Neural Networks, openCV.\n",
        "CERTIFICATES\n",
        "Deep Learning Specialization -\n",
        "Coursera\n",
        "Feb 2022 - Jun 2022\n",
        "Machine Learning Specialization - Coursera\n",
        "Aug 2022 - Sept 2022\n",
        "LANGUAGES\n",
        "English Hindi\n",
        "'''\n",
        "\n",
        "# Remove multiple consecutive spaces\n",
        "my_resume = re.sub(r'\\s{2,}', ' ', resume_text)\n",
        "\n",
        "# Print the result\n",
        "print(my_resume)\n"
      ],
      "metadata": {
        "colab": {
          "base_uri": "https://localhost:8080/"
        },
        "id": "y5gCZDggKZZo",
        "outputId": "639223f6-fa23-41bd-8b9f-24f88365eb87"
      },
      "execution_count": 43,
      "outputs": [
        {
          "output_type": "stream",
          "name": "stdout",
          "text": [
            "\n",
            "SANJEEV KUMAR THAKUR\n",
            "OBJECTIVE\n",
            "Driven and ready to thrive in demanding digital intelligence processing environments. Well-informed on the latest machine learning advancements. Willing to combine tireless hunger for new skills with the desire to exploit cutting-edge data science technology.\n",
            "WORK EXPERIENCE\n",
            "Operations Executive — Derbii July 2018 - January 2019\n",
            "● Strategically coordinated operations according to objectives and capabilities, e�ectively allocating resources to meet demands.\n",
            "● Defined strategic goals and worked with the team.\n",
            "SELF PROJECTS\n",
            "Yolov5 Drowsiness Detection — Deep Learning\n",
            "● Built a real-time drowsiness detection model using YOLO(You Only Look Once) algorithm by Yolov5 represented by Ultralytics open-source research.\n",
            "● Performed this using PyTorch and yolov5 by ultralytics.\n",
            "● Accuracy of almost 99.95%.\n",
            "Cardiovascular Risk Prediction — Classification\n",
            "● Built a cardiovascular risk prediction using various classification algorithms like k-nn, logistic regression, support vector machine etc.\n",
            "● Used SMOTE to handle class imbalance for the target variable.\n",
            "● Categorical accuracy of almost 95.9% and F1 Score of 90%. Automatic Attendance System — Deep Learning\n",
            "● This program recognises faces from live video feeds and marks the attendance to a CSV file.\n",
            "● This uses popular libraries like OpenCV and face_recognition.\n",
            "Lipread- Speech Recognition — Deep Learning\n",
            "● In this project, we tried to build a deep learning model to\n",
            "recognise spoken words from a person’s lip movements.\n",
            "● We used libraries like OpenCV and TensorFlow and also created a streamlit app.\n",
            "New Delhi +91-8826081844 skaty5678@gmail.com\n",
            "EDUCATION\n",
            "B.Sc (H) Mathematics\n",
            "University of Delhi, New Delhi - 2015-2018\n",
            "SKILLS\n",
            "Data Science, Data Analytics, Machine Learning, Deep Learning, Computer Vision, Python, Tensorflow, SQL, PyTorch, Scrapy, Tableau, Sklearn, MongoDB, Neural Networks, openCV.\n",
            "CERTIFICATES\n",
            "Deep Learning Specialization -\n",
            "Coursera\n",
            "Feb 2022 - Jun 2022\n",
            "Machine Learning Specialization - Coursera\n",
            "Aug 2022 - Sept 2022\n",
            "LANGUAGES\n",
            "English Hindi\n",
            "\n"
          ]
        }
      ]
    },
    {
      "cell_type": "code",
      "source": [
        "my_resume = cleanResume(my_resume)"
      ],
      "metadata": {
        "id": "zVca6HrJDEom"
      },
      "execution_count": 46,
      "outputs": []
    },
    {
      "cell_type": "code",
      "source": [
        "my_resume = remove_stopwords(my_resume)"
      ],
      "metadata": {
        "id": "_ikxsegVDMcF"
      },
      "execution_count": 47,
      "outputs": []
    },
    {
      "cell_type": "code",
      "source": [
        "my_resume"
      ],
      "metadata": {
        "colab": {
          "base_uri": "https://localhost:8080/",
          "height": 226
        },
        "id": "Q-H9rO8BDhFo",
        "outputId": "c179fdb3-dd9e-4e81-9425-ea73c3069e5e"
      },
      "execution_count": 48,
      "outputs": [
        {
          "output_type": "execute_result",
          "data": {
            "text/plain": [
              "'SANJEEV KUMAR THAKUROBJECTIVEDriven ready thrive demanding digital intelligence processing environments Wellinformed latest machine learning advancements Willing combine tireless hunger new skills desire exploit cuttingedge data science technologyWORK EXPERIENCEOperations Executive Derbii July 2018 January 2019 Strategically coordinated operations according objectives capabilities eectively allocating resources meet demands Defined strategic goals worked teamSELF PROJECTSYolov5 Drowsiness Detection Deep Learning Built realtime drowsiness detection model using YOLOYou Look algorithm Yolov5 represented Ultralytics opensource research Performed using PyTorch yolov5 ultralytics Accuracy almost 9995Cardiovascular Risk Prediction Classification Built cardiovascular risk prediction using various classification algorithms like knn logistic regression support vector machine etc Used SMOTE handle class imbalance target variable Categorical accuracy almost 959 F1 Score 90 Automatic Attendance System Deep Learning program recognises faces live video feeds marks attendance CSV file uses popular libraries like OpenCV facerecognitionLipread Speech Recognition Deep Learning project tried build deep learning model torecognise spoken words persons lip movements used libraries like OpenCV TensorFlow also created streamlit appNew Delhi 918826081844 skaty5678gmailcomEDUCATIONBSc H MathematicsUniversity Delhi New Delhi 20152018SKILLSData Science Data Analytics Machine Learning Deep Learning Computer Vision Python Tensorflow SQL PyTorch Scrapy Tableau Sklearn MongoDB Neural Networks openCVCERTIFICATESDeep Learning Specialization CourseraFeb 2022 Jun 2022Machine Learning Specialization CourseraAug 2022 Sept 2022LANGUAGESEnglish Hindi'"
            ],
            "application/vnd.google.colaboratory.intrinsic+json": {
              "type": "string"
            }
          },
          "metadata": {},
          "execution_count": 48
        }
      ]
    },
    {
      "cell_type": "code",
      "source": [
        "my_resume = lemmatize(my_resume)"
      ],
      "metadata": {
        "id": "men_CE_UDiCJ"
      },
      "execution_count": 49,
      "outputs": []
    },
    {
      "cell_type": "code",
      "source": [
        "my_resume"
      ],
      "metadata": {
        "colab": {
          "base_uri": "https://localhost:8080/",
          "height": 140
        },
        "id": "Lj_brvuEDly5",
        "outputId": "b21c4076-380f-4914-9256-ad89c66fa4a5"
      },
      "execution_count": 50,
      "outputs": [
        {
          "output_type": "execute_result",
          "data": {
            "text/plain": [
              "'SANJEEV KUMAR THAKUROBJECTIVEDriven ready thrive demanding digital intelligence processing environment Wellinformed latest machine learning advancement Willing combine tireless hunger new skill desire exploit cuttingedge data science technologyWORK EXPERIENCEOperations Executive Derbii July 2018 January 2019 Strategically coordinated operation according objective capability eectively allocating resource meet demand Defined strategic goal worked teamSELF PROJECTSYolov5 Drowsiness Detection Deep Learning Built realtime drowsiness detection model using YOLOYou Look algorithm Yolov5 represented Ultralytics opensource research Performed using PyTorch yolov5 ultralytics Accuracy almost 9995Cardiovascular Risk Prediction Classification Built cardiovascular risk prediction using various classification algorithm like knn logistic regression support vector machine etc Used SMOTE handle class imbalance target variable Categorical accuracy almost 959 F1 Score 90 Automatic Attendance System Deep Learning program recognises face live video feed mark attendance CSV file us popular library like OpenCV facerecognitionLipread Speech Recognition Deep Learning project tried build deep learning model torecognise spoken word person lip movement used library like OpenCV TensorFlow also created streamlit appNew Delhi 918826081844 skaty5678gmailcomEDUCATIONBSc H MathematicsUniversity Delhi New Delhi 20152018SKILLSData Science Data Analytics Machine Learning Deep Learning Computer Vision Python Tensorflow SQL PyTorch Scrapy Tableau Sklearn MongoDB Neural Networks openCVCERTIFICATESDeep Learning Specialization CourseraFeb 2022 Jun 2022Machine Learning Specialization CourseraAug 2022 Sept 2022LANGUAGESEnglish Hindi'"
            ],
            "application/vnd.google.colaboratory.intrinsic+json": {
              "type": "string"
            }
          },
          "metadata": {},
          "execution_count": 50
        }
      ]
    },
    {
      "cell_type": "code",
      "source": [
        "import pickle"
      ],
      "metadata": {
        "id": "jLoWLrJ2EbsP"
      },
      "execution_count": 53,
      "outputs": []
    },
    {
      "cell_type": "code",
      "source": [
        "clf = pickle.load(open('/content/drive/MyDrive/resume_screening_NLP/clf.pkl', 'rb'))"
      ],
      "metadata": {
        "id": "TlnR-cCDEOHO"
      },
      "execution_count": 54,
      "outputs": []
    },
    {
      "cell_type": "code",
      "source": [
        "input_features = tfidf.transform([my_resume])"
      ],
      "metadata": {
        "id": "k1dsXZETEu3b"
      },
      "execution_count": 55,
      "outputs": []
    },
    {
      "cell_type": "code",
      "source": [
        "input_features"
      ],
      "metadata": {
        "colab": {
          "base_uri": "https://localhost:8080/"
        },
        "id": "r44GiyuVE3RM",
        "outputId": "853ef97d-3e59-4375-ef0e-cf74ca18faff"
      },
      "execution_count": 56,
      "outputs": [
        {
          "output_type": "execute_result",
          "data": {
            "text/plain": [
              "<1x9531 sparse matrix of type '<class 'numpy.float64'>'\n",
              "\twith 100 stored elements in Compressed Sparse Row format>"
            ]
          },
          "metadata": {},
          "execution_count": 56
        }
      ]
    },
    {
      "cell_type": "code",
      "source": [
        "prediction = clf.predict(input_features)[0]"
      ],
      "metadata": {
        "id": "GNNpFKe1E5Cn"
      },
      "execution_count": 59,
      "outputs": []
    },
    {
      "cell_type": "code",
      "source": [
        "prediction"
      ],
      "metadata": {
        "colab": {
          "base_uri": "https://localhost:8080/"
        },
        "id": "s1_7LR_AFIJP",
        "outputId": "f8bfe9a5-b43b-4a6a-ac3f-6cc3b40d0a81"
      },
      "execution_count": 60,
      "outputs": [
        {
          "output_type": "execute_result",
          "data": {
            "text/plain": [
              "6"
            ]
          },
          "metadata": {},
          "execution_count": 60
        }
      ]
    },
    {
      "cell_type": "code",
      "source": [
        "final_prediction = label_to_category.get(prediction, 'unknown')\n",
        "final_prediction"
      ],
      "metadata": {
        "colab": {
          "base_uri": "https://localhost:8080/",
          "height": 35
        },
        "id": "pRFun9MBFbUL",
        "outputId": "e279b7bd-0a52-4829-9bdd-949febf96e1f"
      },
      "execution_count": 64,
      "outputs": [
        {
          "output_type": "execute_result",
          "data": {
            "text/plain": [
              "'Data Science'"
            ],
            "application/vnd.google.colaboratory.intrinsic+json": {
              "type": "string"
            }
          },
          "metadata": {},
          "execution_count": 64
        }
      ]
    },
    {
      "cell_type": "code",
      "source": [
        "# def screen_resume(resume_text, clf, tfidf):\n",
        "\n",
        "#     cleaned_resume = cleanResume(resume_text)\n",
        "#     resume_without_stopwords = remove_stopwords(cleaned_resume)\n",
        "#     lemmatized_resume = lemmatize(resume_without_stopwords)\n",
        "\n",
        "#     input_features = tfidf.transform([lemmatized_resume])\n",
        "#     prediction = clf.predict(input_features)[0]\n",
        "\n",
        "#     return prediction"
      ],
      "metadata": {
        "id": "w12_73-fGrVJ"
      },
      "execution_count": null,
      "outputs": []
    }
  ]
}